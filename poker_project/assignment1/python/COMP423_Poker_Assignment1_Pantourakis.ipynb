{
  "cells": [
    {
      "cell_type": "code",
      "execution_count": 1,
      "metadata": {},
      "outputs": [
        {
          "name": "stdout",
          "output_type": "stream",
          "text": [
            "converged after 3 iterations\n",
            "Average payoffs for Policy Iteration Agent vs Random Agent:  0.84015\n"
          ]
        }
      ],
      "source": [
        "''' Policy Iteration Algorithm vs Random Agent\n",
        "'''\n",
        "\n",
        "from env import Env\n",
        "# from human_agent import HumanAgent\n",
        "from policy_iteration_agent import PolicyIterationAgent\n",
        "from random_agent import RandomAgent\n",
        "# from threshold_agent import ThresholdAgent\n",
        "\n",
        "# Make environment\n",
        "env = Env()\n",
        "# human_agent1 = HumanAgent(env.num_actions)\n",
        "# human_agent2 = HumanAgent(env.num_actions)\n",
        "random_agent = RandomAgent(env.np_random, False)\n",
        "# threshold_agent = ThresholdAgent(False)\n",
        "pi_random_agent = PolicyIterationAgent(env.np_random, False, random_agent)\n",
        "env.set_agents([\n",
        "    # human_agent1,\n",
        "    # human_agent2,\n",
        "    # threshold_agent,\n",
        "    pi_random_agent,\n",
        "    random_agent,\n",
        "])\n",
        "\n",
        "num_of_games = 10000\n",
        "pi_random_agent_payoffs = []\n",
        "\n",
        "for i in range(num_of_games):\n",
        "    # print(\"Game: \", i)\n",
        "\n",
        "    trajectories, payoffs = env.run(is_training=False)\n",
        "    pi_random_agent_payoffs.append(payoffs[0])\n",
        "\n",
        "print(\"Average payoffs for Policy Iteration Agent vs Random Agent: \", sum(pi_random_agent_payoffs)/num_of_games)"
      ]
    }
  ],
  "metadata": {
    "colab": {
      "provenance": []
    },
    "kernelspec": {
      "display_name": "Python 3",
      "name": "python3"
    },
    "language_info": {
      "codemirror_mode": {
        "name": "ipython",
        "version": 3
      },
      "file_extension": ".py",
      "mimetype": "text/x-python",
      "name": "python",
      "nbconvert_exporter": "python",
      "pygments_lexer": "ipython3",
      "version": "3.9.13"
    }
  },
  "nbformat": 4,
  "nbformat_minor": 0
}
