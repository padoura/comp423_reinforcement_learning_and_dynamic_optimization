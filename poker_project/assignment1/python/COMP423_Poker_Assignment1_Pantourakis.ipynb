{
  "cells": [
    {
      "cell_type": "code",
      "execution_count": 1,
      "metadata": {},
      "outputs": [
        {
          "name": "stdout",
          "output_type": "stream",
          "text": [
            "Running Policy Iteration algorithm for Random Agent...\n",
            "converged after 4 iterations\n",
            "Running  10000  games \"Policy Iteration Agent vs Random Agent\"...\n",
            "Average payoffs:   0.85205\n"
          ]
        }
      ],
      "source": [
        "''' Policy Iteration Algorithm vs Random Agent\n",
        "'''\n",
        "\n",
        "from env import Env\n",
        "# from human_agent import HumanAgent\n",
        "from policy_iteration_agent import PolicyIterationAgent\n",
        "from random_agent import RandomAgent\n",
        "# from threshold_agent import ThresholdAgent\n",
        "\n",
        "# Make environment\n",
        "env = Env()\n",
        "# human_agent1 = HumanAgent(env.num_actions)\n",
        "# human_agent2 = HumanAgent(env.num_actions)\n",
        "random_agent = RandomAgent(env.np_random, False)\n",
        "# threshold_agent = ThresholdAgent(False)\n",
        "print(\"Running Policy Iteration algorithm for Random Agent...\")\n",
        "pi_random_agent = PolicyIterationAgent(env.np_random, False, random_agent)\n",
        "env.set_agents([\n",
        "    # human_agent1,\n",
        "    # human_agent2,\n",
        "    # threshold_agent,\n",
        "    pi_random_agent,\n",
        "    random_agent,\n",
        "])\n",
        "\n",
        "num_of_games = 10000\n",
        "pi_random_agent_payoffs = []\n",
        "print(\"Running \", num_of_games, \" games \\\"Policy Iteration Agent vs Random Agent\\\"...\")\n",
        "for i in range(num_of_games):\n",
        "    # print(\"Game: \", i)\n",
        "\n",
        "    trajectories, payoffs = env.run(is_training=False)\n",
        "    pi_random_agent_payoffs.append(payoffs[0])\n",
        "\n",
        "print(\"Average payoffs:  \", sum(pi_random_agent_payoffs)/num_of_games)"
      ]
    }
  ],
  "metadata": {
    "colab": {
      "provenance": []
    },
    "kernelspec": {
      "display_name": "Python 3",
      "name": "python3"
    },
    "language_info": {
      "codemirror_mode": {
        "name": "ipython",
        "version": 3
      },
      "file_extension": ".py",
      "mimetype": "text/x-python",
      "name": "python",
      "nbconvert_exporter": "python",
      "pygments_lexer": "ipython3",
      "version": "3.9.13"
    }
  },
  "nbformat": 4,
  "nbformat_minor": 0
}
